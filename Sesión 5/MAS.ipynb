{
 "cells": [
  {
   "cell_type": "markdown",
   "id": "59be2ed4-b4ea-494e-a26c-48cc308f0bb8",
   "metadata": {},
   "source": [
    "Importamos las librerías a utilizar"
   ]
  },
  {
   "cell_type": "code",
   "execution_count": 10,
   "id": "69b93078-9192-4859-87ad-ac13f4853032",
   "metadata": {},
   "outputs": [
    {
     "name": "stdout",
     "output_type": "stream",
     "text": [
      "         asegurados\n",
      "0   Brandon Russell\n",
      "1    Steven Johnson\n",
      "2  Evelyn Christian\n",
      "3       George Cook\n",
      "4      Aaron Graham\n",
      "5        Kyle Jones\n",
      "6  Jerome Whitehead\n",
      "7     Charles Tyler\n",
      "8      Thomas Berry\n",
      "9         Ryan Mack\n",
      "           asegurados\n",
      "1342     Devon Walker\n",
      "1338     Kayla Santos\n",
      "189        Todd Welch\n",
      "1332    Jaclyn Chavez\n",
      "1816    Brian Estrada\n",
      "1685     Karen Barton\n",
      "657      Keith Rogers\n",
      "1846    Kent Lewis MD\n",
      "554   Luis Villarreal\n",
      "1963   Marissa Snyder\n"
     ]
    }
   ],
   "source": [
    "# Importamos librerías a utilizar\n",
    "import pandas as pd \n",
    "import numpy as np\n",
    "from faker import Faker #Generar nombres aleatorios\n",
    "\n",
    "# Plantamos la semilla para reproducibilidad de datos\n",
    "np.random.seed(123) # Semilla para muestra aleatoria\n",
    "fake = Faker()\n",
    "Faker.seed(123) # Semilla para muestra de nombres aleatorios\n",
    "\n",
    "# Generamos 2000 nombres únicos usando Faker\n",
    "asegurados = pd.DataFrame({'asegurados': [fake.name() for _ in range(2000)]})\n",
    "print(asegurados.head(10))  # Mostramos las primeras 10 filas\n",
    "\n",
    "# Seleccionamos una muestra de tamaño 100 a través de un MAS (muestreo aleatorio simple)\n",
    "muestra_asegurados = asegurados.sample(n=100, replace=False)\n",
    "print(muestra_asegurados.head(10))"
   ]
  },
  {
   "cell_type": "code",
   "execution_count": null,
   "id": "fc4655a4-3844-480d-84ce-8b2946f20bc2",
   "metadata": {},
   "outputs": [],
   "source": []
  }
 ],
 "metadata": {
  "kernelspec": {
   "display_name": "Python 3 (ipykernel)",
   "language": "python",
   "name": "python3"
  },
  "language_info": {
   "codemirror_mode": {
    "name": "ipython",
    "version": 3
   },
   "file_extension": ".py",
   "mimetype": "text/x-python",
   "name": "python",
   "nbconvert_exporter": "python",
   "pygments_lexer": "ipython3",
   "version": "3.12.8"
  }
 },
 "nbformat": 4,
 "nbformat_minor": 5
}
